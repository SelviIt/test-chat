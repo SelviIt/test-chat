{
  "nbformat": 4,
  "nbformat_minor": 0,
  "metadata": {
    "colab": {
      "provenance": [],
      "authorship_tag": "ABX9TyOeO5mzeW01SRVUnMEIeNgd",
      "include_colab_link": true
    },
    "kernelspec": {
      "name": "python3",
      "display_name": "Python 3"
    },
    "language_info": {
      "name": "python"
    }
  },
  "cells": [
    {
      "cell_type": "markdown",
      "metadata": {
        "id": "view-in-github",
        "colab_type": "text"
      },
      "source": [
        "<a href=\"https://colab.research.google.com/github/SelviIt/test-chat/blob/main/Day1.ipynb\" target=\"_parent\"><img src=\"https://colab.research.google.com/assets/colab-badge.svg\" alt=\"Open In Colab\"/></a>"
      ]
    },
    {
      "cell_type": "code",
      "source": [],
      "metadata": {
        "id": "qT5dR4aDoAi1"
      },
      "execution_count": null,
      "outputs": []
    },
    {
      "cell_type": "markdown",
      "source": [
        "\n",
        "\n",
        "```\n",
        "# This is formatted as code\n",
        "```\n",
        "\n"
      ],
      "metadata": {
        "id": "cBB_j2k3nxus"
      }
    },
    {
      "cell_type": "code",
      "execution_count": 1,
      "metadata": {
        "colab": {
          "base_uri": "https://localhost:8080/"
        },
        "id": "3KPA1e6tnkPf",
        "outputId": "00a65cac-e5d4-4bd5-bfe9-4113fbfbb0d0"
      },
      "outputs": [
        {
          "output_type": "stream",
          "name": "stdout",
          "text": [
            "8.9\n"
          ]
        }
      ],
      "source": [
        "#DAY - 1\n",
        "a, b, c = \"Hello\", \"Hi\", 8.9\n",
        "print(c)\n"
      ]
    },
    {
      "cell_type": "code",
      "source": [
        "x = \"Srilanka\"\n",
        "print(\"I love \"+ x)"
      ],
      "metadata": {
        "colab": {
          "base_uri": "https://localhost:8080/"
        },
        "id": "waVqhHl9oyil",
        "outputId": "6c1aeea4-c07c-4074-b982-8ad11a0becd1"
      },
      "execution_count": 2,
      "outputs": [
        {
          "output_type": "stream",
          "name": "stdout",
          "text": [
            "I love Srilanka\n"
          ]
        }
      ]
    },
    {
      "cell_type": "code",
      "source": [
        "x = \"Srilanka\"\n",
        "def func():\n",
        "  x = \"India\"\n",
        "  print(\"I love \" + x)\n",
        "\n",
        "func()\n",
        "print(\"I love \"+ x)"
      ],
      "metadata": {
        "colab": {
          "base_uri": "https://localhost:8080/"
        },
        "id": "7bzc23hhpLYb",
        "outputId": "65702a8a-3e23-4c98-85a5-2ba863c95a99"
      },
      "execution_count": 3,
      "outputs": [
        {
          "output_type": "stream",
          "name": "stdout",
          "text": [
            "I love India\n",
            "I love Srilanka\n"
          ]
        }
      ]
    },
    {
      "cell_type": "code",
      "source": [
        "def func():\n",
        "  global x\n",
        "  x = \"Tamil\"\n",
        "\n",
        "func()\n",
        "print(\"I love \" + x)"
      ],
      "metadata": {
        "colab": {
          "base_uri": "https://localhost:8080/"
        },
        "id": "WP03vfXvp3in",
        "outputId": "154af331-5f4d-4acd-fef9-3d1be13c1723"
      },
      "execution_count": 5,
      "outputs": [
        {
          "output_type": "stream",
          "name": "stdout",
          "text": [
            "I love Tamil\n"
          ]
        }
      ]
    },
    {
      "cell_type": "code",
      "source": [
        "a = [\"Tamil\", \"English\", \"Singala\"]\n",
        "print(type(a))\n",
        "\n",
        "b = {\"Mango\",\"Banana\", \"Apple\"}\n",
        "print(type(b))\n",
        "\n",
        "if \"Tamil\" in a:\n",
        "  Print(\"Yes\")\n",
        "else:\n",
        "  print(\"No\")"
      ],
      "metadata": {
        "colab": {
          "base_uri": "https://localhost:8080/"
        },
        "id": "vcUxjD5dqni-",
        "outputId": "28af1a83-4109-41d8-b029-a8ba6ebbc0c3"
      },
      "execution_count": 6,
      "outputs": [
        {
          "output_type": "stream",
          "name": "stdout",
          "text": [
            "<class 'list'>\n",
            "<class 'set'>\n"
          ]
        }
      ]
    },
    {
      "cell_type": "code",
      "source": [
        "lista = [\"Tamil\", \"English\", \"Singala\"]\n",
        "\n",
        "if \"Tamil\" in lista:\n",
        "  print(\"Yes\")\n",
        "else:\n",
        "  print(\"No\")\n",
        "\n",
        "lista.append(\"German\")\n",
        "print(lista)\n",
        "\n",
        "lista.insert(1,\"Hindi\")\n",
        "print(lista)\n",
        "\n",
        "lista.pop()\n",
        "print(lista)\n",
        "\n",
        "\n",
        "#del lista\n",
        "#print(lista)"
      ],
      "metadata": {
        "colab": {
          "base_uri": "https://localhost:8080/"
        },
        "id": "Pi_6dlqKyjvD",
        "outputId": "202e1fe6-3994-4169-ff24-e6cb067e2aa0"
      },
      "execution_count": 16,
      "outputs": [
        {
          "output_type": "stream",
          "name": "stdout",
          "text": [
            "Yes\n",
            "['Tamil', 'English', 'Singala', 'German']\n",
            "['Tamil', 'Hindi', 'English', 'Singala', 'German']\n",
            "['Tamil', 'Hindi', 'English', 'Singala']\n"
          ]
        }
      ]
    },
    {
      "cell_type": "code",
      "source": [
        "listb = [\"Srilanka\", \"India\",\"Canada\"]\n",
        "print(listb)\n",
        "listb.clear()\n",
        "print(listb)"
      ],
      "metadata": {
        "colab": {
          "base_uri": "https://localhost:8080/"
        },
        "id": "bkUS2N9S0J4U",
        "outputId": "80de5dfd-e45a-482f-8c13-888a7cc3db28"
      },
      "execution_count": 12,
      "outputs": [
        {
          "output_type": "stream",
          "name": "stdout",
          "text": [
            "['Srilanka', 'India', 'Canada']\n",
            "[]\n"
          ]
        }
      ]
    },
    {
      "cell_type": "code",
      "source": [
        "x = (\"Milk\", \"Lemon Juice\",\"King coconut\")\n",
        "print(x)\n",
        "\n",
        "set1 = {\"Kilinochchi\", \"Mannar\", \"Vavuniya\",\"Mullaitivu\",\"Jaffna\"}\n",
        "set2 = {1, 2, 3,4,5}\n",
        "print(set)\n",
        "\n",
        "set3 = set1.union(set2)\n",
        "print(set3)\n",
        "\n",
        "set1 = {\"Kilinochchi\", \"Mannar\", \"Vavuniya\",\"Mullaitivu\",\"Jaffna\"}\n",
        "set2 = {\"Batticaloa\", \"Mannar\", \"Vavuniya\",\"Mullaitivu\",\"Tringo\"}\n",
        "set3 = set1.union(set2)\n",
        "print(set3)\n",
        "\n",
        "set1 = {\"Kilinochchi\", \"Mannar\", \"Vavuniya\",\"Mullaitivu\",\"Jaffna\"}\n",
        "set2 = {\"Batticaloa\", \"Mannar\", \"Vavuniya\",\"Mullaitivu\",\"Tringo\"}\n",
        "set1.intersection(set2)\n",
        "print(set1)"
      ],
      "metadata": {
        "colab": {
          "base_uri": "https://localhost:8080/"
        },
        "id": "CD_52LtX1oTI",
        "outputId": "b99a64c5-d85b-4754-c783-ca367e08043d"
      },
      "execution_count": 22,
      "outputs": [
        {
          "output_type": "stream",
          "name": "stdout",
          "text": [
            "('Milk', 'Lemon Juice', 'King coconut')\n",
            "{'Jaffna', 'Mannar', 'Kilinochchi', 'Vavuniya', 'Mullaitivu'}\n",
            "{1, 2, 3, 4, 5, 'Kilinochchi', 'Vavuniya', 'Mullaitivu', 'Jaffna', 'Mannar'}\n",
            "{'Kilinochchi', 'Vavuniya', 'Mullaitivu', 'Batticaloa', 'Tringo', 'Jaffna', 'Mannar'}\n",
            "{'Jaffna', 'Mannar', 'Kilinochchi', 'Vavuniya', 'Mullaitivu'}\n"
          ]
        }
      ]
    },
    {
      "cell_type": "code",
      "source": [
        "dic ={\n",
        "    \"Name\":\"Maran\",\n",
        "    \"Language\":\"Tamil\",\n",
        "    \"Country\":\"Srilanka\"\n",
        "    }\n",
        "print(dic)"
      ],
      "metadata": {
        "colab": {
          "base_uri": "https://localhost:8080/"
        },
        "id": "7ROrxTZH56FH",
        "outputId": "707900d1-819b-4434-aae3-6c9c374d5312"
      },
      "execution_count": 23,
      "outputs": [
        {
          "output_type": "stream",
          "name": "stdout",
          "text": [
            "{'Name': 'Maran', 'Language': 'Tamil', 'Country': 'Srilanka'}\n"
          ]
        }
      ]
    }
  ]
}